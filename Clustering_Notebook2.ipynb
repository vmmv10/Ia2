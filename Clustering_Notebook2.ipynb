{
 "cells": [
  {
   "cell_type": "markdown",
   "metadata": {},
   "source": [
    "# Notebook 2:  Clustering con GMM y Algoritmos Jerárquicos\n",
    "\n",
    "En este notebook vamos a implementar el algoritmo de clustering de Mezcla de Normales en R. El objetivo es entender como funciona este algoritmo y  aprender a utilizarlo con un ejemplo simple. Se incluye además la estrategia para definir el número de grupos k. Al final se propone un ejercicio con nuevos datos, con el fin de aprender a utilizar el algoritmo. "
   ]
  },
  {
   "cell_type": "code",
   "execution_count": 2,
   "metadata": {},
   "outputs": [
    {
     "ename": "SyntaxError",
     "evalue": "keyword can't be an expression (<ipython-input-2-232abbe1504d>, line 5)",
     "output_type": "error",
     "traceback": [
      "\u001b[1;36m  File \u001b[1;32m\"<ipython-input-2-232abbe1504d>\"\u001b[1;36m, line \u001b[1;32m5\u001b[0m\n\u001b[1;33m    datos <-read.table(\"c:\\\\milk.dat\",row.names=1,dec=\".\",header=TRUE)\u001b[0m\n\u001b[1;37m                                     ^\u001b[0m\n\u001b[1;31mSyntaxError\u001b[0m\u001b[1;31m:\u001b[0m keyword can't be an expression\n"
     ]
    }
   ],
   "source": [
    "library(mclust)\n",
    "library(cluster)\n",
    "#ruta datos\n",
    "#lee datos del archivo de texto como una matriz. La primera #columna se utiliza como vector de nombres de las filas\n",
    "datos <-read.table(\"c:\\\\milk.dat\",row.names=1,dec=\".\",header=TRUE)\n",
    "summary(datos)"
   ]
  },
  {
   "cell_type": "code",
   "execution_count": 11,
   "metadata": {
    "scrolled": true
   },
   "outputs": [
    {
     "ename": "NameError",
     "evalue": "name 'clus' is not defined",
     "output_type": "error",
     "traceback": [
      "\u001b[1;31m---------------------------------------------------------------------------\u001b[0m",
      "\u001b[1;31mNameError\u001b[0m                                 Traceback (most recent call last)",
      "\u001b[1;32m<ipython-input-11-02fb3f4ef685>\u001b[0m in \u001b[0;36m<module>\u001b[1;34m\u001b[0m\n\u001b[1;32m----> 1\u001b[1;33m \u001b[0mclus\u001b[0m \u001b[1;33m<\u001b[0m\u001b[1;33m-\u001b[0m\u001b[0mMclust\u001b[0m\u001b[1;33m(\u001b[0m\u001b[0mdatos\u001b[0m\u001b[1;33m,\u001b[0m\u001b[1;36m3\u001b[0m\u001b[1;33m)\u001b[0m\u001b[1;33m\u001b[0m\u001b[1;33m\u001b[0m\u001b[0m\n\u001b[0m\u001b[0;32m      2\u001b[0m \u001b[0msummary\u001b[0m\u001b[1;33m(\u001b[0m\u001b[0mclus\u001b[0m\u001b[1;33m)\u001b[0m\u001b[1;33m\u001b[0m\u001b[1;33m\u001b[0m\u001b[0m\n\u001b[0;32m      3\u001b[0m \u001b[0mplot\u001b[0m\u001b[1;33m(\u001b[0m\u001b[0mclus\u001b[0m\u001b[1;33m)\u001b[0m\u001b[1;33m\u001b[0m\u001b[1;33m\u001b[0m\u001b[0m\n\u001b[0;32m      4\u001b[0m \u001b[0mclus\u001b[0m\u001b[1;33m\u001b[0m\u001b[1;33m\u001b[0m\u001b[0m\n\u001b[0;32m      5\u001b[0m \u001b[1;33m\u001b[0m\u001b[0m\n",
      "\u001b[1;31mNameError\u001b[0m: name 'clus' is not defined"
     ]
    }
   ],
   "source": [
    "clus <-Mclust(datos,3)\n",
    "summary(clus)\n",
    "plot(clus)\n",
    "clus\n",
    "\n",
    "\n"
   ]
  },
  {
   "cell_type": "code",
   "execution_count": 2,
   "metadata": {},
   "outputs": [
    {
     "ename": "SyntaxError",
     "evalue": "invalid syntax (<ipython-input-2-933ec6add38a>, line 1)",
     "output_type": "error",
     "traceback": [
      "\u001b[1;36m  File \u001b[1;32m\"<ipython-input-2-933ec6add38a>\"\u001b[1;36m, line \u001b[1;32m1\u001b[0m\n\u001b[1;33m    cl <- clus$classification\u001b[0m\n\u001b[1;37m              ^\u001b[0m\n\u001b[1;31mSyntaxError\u001b[0m\u001b[1;31m:\u001b[0m invalid syntax\n"
     ]
    }
   ],
   "source": [
    "cl <- clus$classification\n",
    "centers <- t(clus$parameters$mean)\n",
    "centers\n",
    "cl\n"
   ]
  },
  {
   "cell_type": "markdown",
   "metadata": {},
   "source": [
    "**Ejercicio 1:**\n",
    "\n",
    "a) Explique como funciona el método Mclust, describa los principales parámetros de entrada y salida.\n",
    "\n",
    "b) Interprete y comente los resultados obtenidos. "
   ]
  },
  {
   "cell_type": "markdown",
   "metadata": {},
   "source": [
    "**Respuestas al ejercicio 1:**\n",
    "    \n",
    "a) El metodo mencionando se basa en Gaussian Mixtur e Models, los cuales son estimados por algoritmos EM. La funcionalidad \n",
    "es elegir automaticamente el mejor numero de componentes y parametros de covarianza, gracias a los criterios de informacion \n",
    "bayesianos.\n",
    "- Como parametros de entrada, sera nuestros datos, y en este caso tambien asignando la cantidad de parametros(3), en lo cuales queremos clasificar nuestros dataset.\n",
    "- Como parametros de salida tenemos el número de componentes los cuales modelan de manera óptima nuestros datos (esto si no lo hemos definido de manera manual) y la cantidad de elementos pertenecientes a dichos componentes, además de datos correspondientes a log-likelihood, n, df , BIC e ICL (explicados en la siguiente celda)\n"
   ]
  },
  {
   "cell_type": "markdown",
   "metadata": {},
   "source": [
    "  - Call: La llamada coincidente (ejecutada).\n",
    "  - Data: Matriz con datos de entrada.\n",
    "  - ModelName: Un string que denota el modelo en el cual se produce el BIC óptimo.\n",
    "  - n: Numero de observaciones en la data\n",
    "  - d: dimension de la data\n",
    "  - G: El numero optimo de 'Mixture components'\n",
    "  - BIC: todos los valores BIC\n",
    "  - loglik: \n",
    "  - df: numero de parametros estimados\n",
    "  - bic: valores BIC del modelo seleccionado \n",
    "  - hypvol: parametros de hypervolume para el ruido de compoentes si es que requiere (sino, es null) \n",
    "  - parameters: proporción, media y varianza.\n",
    "  - z: Una matriz la cual nos indica que para la entrada [i,k] la probabilidad de la observacion i en el data test pertenezca a  la clase k. \n",
    "  - classification: la clasificacion correspondiente a z.\n",
    "  - uncertainty: la incertidumbre asociada con la clasificacion."
   ]
  },
  {
   "cell_type": "markdown",
   "metadata": {},
   "source": [
    "b) Podemos identificar que en este caso al haber seteado la cantidad de componentes en 3 al ejecutar el método obtendremos la mejor distribución posible de nuestros datos bajo estos parametros. Se puede apreciar en los gráficos los elementos pertenecientes a cada grupo, así mismo en la \"Clsutering Table\" la cantidad de elementos pertenecientes a cada componente.\n",
    "    Luego con \"centers\" podemos apreciar la media de cada característica perteneciente a cada uno de los grupos. Tambien podemos apreciar en \"cl\" la clasificación en la cual se ha encasillado cada animal en el dataset ."
   ]
  },
  {
   "cell_type": "code",
   "execution_count": null,
   "metadata": {},
   "outputs": [],
   "source": [
    "#Análisis de Componentes Principales para graficar los grupos obtenidos\n",
    "#Calcula plano de componentes principales y grafica las observaciones con el número de su grupo\n",
    "res <- princomp(datos, cor=TRUE)\n",
    "res2 <- predict(res,centers)\n",
    "\n",
    "biplot(res,xlabs=cl)\n",
    "#grafica los centros de cada grupo en el plano de componentes principales utilizando colores distintos\n",
    "points(res2[,1:2],col=1:9,pch=19)\n"
   ]
  },
  {
   "cell_type": "markdown",
   "metadata": {},
   "source": [
    "**Criterio de Información Bayesiano**\n",
    "\n",
    "Una forma de discriminar entre posibles agrupamientos, es calcular el Criterio de Información Bayesiano, cuya expresión genérica es:\n",
    "$$BIC = log L(Datos\\mid \\hat{\\theta}) - \\frac{d}{2}log(N)$$\n",
    "donde $d$ es el número de parámetros libres y $N$ el número de observaciones. A medida que aumenta el número de parámetros la verosimilitud aumenta, pero esto es moderado por el término en que depende de $d$.\n",
    "\n",
    "Mclust calcula automática el BIC para distintas configuraciones de las matrices covarianza de cada Normal multivariada (que corresponden a distintos números de parámetros) así como distinto número de grupos. Por parsimonia, es recomendable escoger el primer número de grupos que representa un máximo local."
   ]
  },
  {
   "cell_type": "markdown",
   "metadata": {},
   "source": [
    "**Ejercicio 2:**\n",
    "\n",
    "a) Utilice Mclust sin definir el número de grupos y considere el Criterio de información Bayesiano (BIC) para decidir el número de grupos óptimo. \n",
    "\n",
    "b) Discuta y compare  sus resultados con aquellos obtenidos con k-means"
   ]
  },
  {
   "cell_type": "code",
   "execution_count": null,
   "metadata": {},
   "outputs": [],
   "source": [
    "clus2 <-Mclust(datos)\n",
    "summary(clus2)\n",
    "plot(clus2)\n",
    "\n",
    "cl2 <- clus2$classification\n",
    "centers2 <- t(clus2$parameters$mean)\n",
    "centers2\n",
    "cl2"
   ]
  },
  {
   "cell_type": "markdown",
   "metadata": {},
   "source": [
    "En lo que sigue, utilizaremos el método hclust, que permite realizar análisis de agrupamiento jerárquico"
   ]
  },
  {
   "cell_type": "code",
   "execution_count": null,
   "metadata": {},
   "outputs": [],
   "source": [
    "res3 <- hclust(dist(datos))\n",
    "biplot(res, xlabs= cutree(res3,4))"
   ]
  },
  {
   "cell_type": "markdown",
   "metadata": {},
   "source": [
    "**Ejercicio 3:** \n",
    "\n",
    "a) Explique como funciona el método hclust, describa parámetros de entrada y salida.\n",
    "\n",
    "b) Interprete y comente los resultados obtenidos. \n",
    "\n",
    "c) Utilice otros parámetros en hclust y discuta como varían los resultados. "
   ]
  },
  {
   "cell_type": "markdown",
   "metadata": {},
   "source": [
    "**Ejercicio 4:** (3 puntos)\n",
    "\n",
    "a) Considere los datos comunas.csv y escoja las comunas de una sola región para realizar sus análisis. Realice un análisis de clustering con K-means, GMM y Análisis Jerárquico para dichos datos, excluyendo el índice IDSE. Interprete sus resultados.\n",
    "\n",
    "b) Estudie las medidas de calidad propuestas en Murphy, Capítulo 25: purity, rand index y mutual information (pdf en siveducMD). Calcule alguna de las medidas de calidad estudiadas, para cada uno de los análisis realizado en (a), considerando  una categorización (IDSE_bis) de los datos según el índice IDSE, de la manera siguiente:\n",
    "1. IDSE_bis = 1 si 0 <= IDSE < 0.3\n",
    "2. IDSE_bis = 2 si 0.3 <= IDSE < 0.4\n",
    "3. IDSE_bis = 3 si 0.4 <= IDSE < 0.5\n",
    "4. IDSE_bis = 4 si 0.5 <= IDSE < 0.6\n",
    "5. IDSE_bis = 5 si 0.6 <= IDSE < 0.7\n",
    "6. IDSE_bis = 6 si 0.7 <= IDSE < 0.8\n",
    "7. IDSE_bis = 7 si 0.8 <= IDSE < 0.9\n",
    "8. IDSE_bis = 8 si 0.9 <= IDSE < 1\n",
    "\n",
    "\n",
    "Discuta sus resultados."
   ]
  }
 ],
 "metadata": {
  "celltoolbar": "Raw Cell Format",
  "kernelspec": {
   "display_name": "Python 3",
   "language": "python",
   "name": "python3"
  },
  "language_info": {
   "codemirror_mode": {
    "name": "ipython",
    "version": 3
   },
   "file_extension": ".py",
   "mimetype": "text/x-python",
   "name": "python",
   "nbconvert_exporter": "python",
   "pygments_lexer": "ipython3",
   "version": "3.7.3"
  }
 },
 "nbformat": 4,
 "nbformat_minor": 2
}
